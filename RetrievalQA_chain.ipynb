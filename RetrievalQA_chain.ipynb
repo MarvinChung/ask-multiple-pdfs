{
 "cells": [
  {
   "cell_type": "code",
   "execution_count": 1,
   "id": "7be93ff2",
   "metadata": {},
   "outputs": [],
   "source": [
    "import os\n",
    "os.environ[\"OPENAI_API_BASE\"]= \"http://35.221.228.215:8000/v1\"\n",
    "os.environ[\"OPENAI_API_KEY\"]=\"EMPTY\"\n",
    "os.environ[\"TOKENIZERS_PARALLELISM\"] = \"false\"\n",
    "from langchain.text_splitter import CharacterTextSplitter\n",
    "from langchain.chat_models import ChatOpenAI\n",
    "from langchain.embeddings import OpenAIEmbeddings\n",
    "from langchain.memory import ConversationBufferMemory\n",
    "from langchain.chains import ConversationalRetrievalChain, LLMChain, RetrievalQA\n",
    "from langchain.prompts import PromptTemplate\n",
    "from langchain.chains.question_answering import load_qa_chain\n",
    "from langchain.embeddings import HuggingFaceEmbeddings\n",
    "from langchain.vectorstores import Chroma\n",
    "from langchain.document_loaders import TextLoader"
   ]
  },
  {
   "cell_type": "code",
   "execution_count": 2,
   "id": "2c8652bd",
   "metadata": {},
   "outputs": [],
   "source": [
    "# qa_prompt_template = \"\"\"Below is an instruction that describes a task, paired with an input that provides further context. Write a response that exactly answer the question from the context, or if the answer is not inferrable by the context, state so. Write as concise as possible:\n",
    "\n",
    "# ### Instruction:\n",
    "#  請依據文章回答：陶朱隱園誰設計的?\n",
    "\n",
    "# ### Input:\n",
    "#  陶朱隱園（英語：Tao Zhu Yin Yuan）是位於臺灣臺北市信義計畫區的豪宅大樓，位在松勇路及松高路口，土地面積約為2468坪，由威京集團的中華工程與亞太工商聯合建，建築師為比利時籍的文森·卡利博。該建築樓高93.2公尺，地上樓層21樓，地下樓層4樓，總樓地板面積為12,962坪，於2018年第三季竣工，第一戶的正式交易日期為次年7月3日。\n",
    "\n",
    "# 建築外觀特殊，屬於少有的旋轉建築，每層樓旋轉4.5度，頂樓設有直升機停機坪，內部則共有七部電梯，其中一部可承載超跑或救護車；其中每戶約三百坪，訴求垂直森林建築，種植超過 2.3 萬顆的喬灌木，裡面甚至還有叢林水瀑布，陽台部分的面積超過五十坪。2018年即完工取得使用執照，直到2019年出現首筆交易，由相關企業公司承耀公司買下7樓戶。過去一兩年實品屋完工後一直沒開放賞屋，市場傳出陶朱隱園價格太高乾脆封盤不賣。\n",
    "\n",
    "# #### Response:\n",
    "#  文森·卡利博\n",
    " \n",
    "# -----\n",
    "# Below is an instruction that describes a task, paired with an input that provides further context. Write a response that exactly answer the question from the context, or if the answer is not inferrable by the context, state so. Write as concise as possible:\n",
    "\n",
    "# ### Instruction:\n",
    "#  請依據文章回答，{question}\n",
    "\n",
    "# ### Input:\n",
    "#  {context}\n",
    "\n",
    "# ### Response:\n",
    "# \"\"\" "
   ]
  },
  {
   "cell_type": "code",
   "execution_count": 3,
   "id": "7b5d1ad2",
   "metadata": {},
   "outputs": [],
   "source": [
    "# qa_prompt_template = \"\"\"Below is an instruction that describes a task, paired with an input that provides further context. Write a response that exactly answer the question from the context, or if the answer is not inferrable by the context, state so. Write as concise as possible:\n",
    " \n",
    "# ### Instruction:\n",
    "#  請依據文章，只擷取文章中的一段文字來回答這個問題：{question}\n",
    "\n",
    "# ### Input:\n",
    "#  {context}\n",
    "\n",
    "# ### Response:\n",
    "# \"\"\" "
   ]
  },
  {
   "cell_type": "code",
   "execution_count": 4,
   "id": "1264af71",
   "metadata": {},
   "outputs": [],
   "source": [
    "qa_prompt_template = \"\"\"Below is an instruction that describes a task, paired with an input that provides further context. Write a response that exactly answer the question from the context, or if the answer is not inferrable by the context, state so. Write as concise as possible:\n",
    " \n",
    "### Instruction:\n",
    " 請依據文章，只摘要文章中的一段文字來回答這個問題：{question}\n",
    "\n",
    "### Input:\n",
    " {context}\n",
    "\n",
    "### Response:\n",
    "\"\"\" "
   ]
  },
  {
   "cell_type": "code",
   "execution_count": 5,
   "id": "986247c2",
   "metadata": {},
   "outputs": [],
   "source": [
    "# qa_prompt_template = \"\"\"Below is an instruction that describes a task, paired with an input that provides further context. Write a response that exactly answer the question from the context, or if the answer is not inferrable by the context, state so. Write as concise as possible:\n",
    " \n",
    "# ### Instruction:\n",
    "#  請從文章中擷取一段文字來回答這個問題：{question}\n",
    "\n",
    "# ### Input:\n",
    "#  {context}\n",
    "\n",
    "# ### Response:\n",
    "# \"\"\" "
   ]
  },
  {
   "cell_type": "code",
   "execution_count": 6,
   "id": "d92fff82",
   "metadata": {},
   "outputs": [],
   "source": [
    "# qa_prompt_template = \"\"\"Below is an instruction that describes a task, paired with an input that provides further context. Write a response that exactly answer the question from the context, or if the answer is not inferrable by the context, state so. Write as concise as possible:\n",
    " \n",
    "# ### Instruction:\n",
    "#  Please extract the answer from the input：{question}\n",
    "\n",
    "# ### Input:\n",
    "#  {context}\n",
    "\n",
    "# ### Response:\n",
    "# \"\"\" "
   ]
  },
  {
   "cell_type": "code",
   "execution_count": 7,
   "id": "4bbd8ad5",
   "metadata": {},
   "outputs": [],
   "source": [
    "REDPAJAMA_QA_PROMPT = PromptTemplate(\n",
    "    template=qa_prompt_template, input_variables=[\"context\", \"question\"]\n",
    ")"
   ]
  },
  {
   "cell_type": "code",
   "execution_count": 8,
   "id": "57292242",
   "metadata": {},
   "outputs": [
    {
     "name": "stderr",
     "output_type": "stream",
     "text": [
      "Created a chunk of size 42, which is longer than the specified 32\n",
      "Created a chunk of size 52, which is longer than the specified 32\n",
      "Created a chunk of size 77, which is longer than the specified 32\n",
      "Created a chunk of size 88, which is longer than the specified 32\n",
      "Created a chunk of size 105, which is longer than the specified 32\n",
      "Created a chunk of size 80, which is longer than the specified 32\n",
      "Created a chunk of size 86, which is longer than the specified 32\n",
      "Created a chunk of size 96, which is longer than the specified 32\n",
      "Created a chunk of size 88, which is longer than the specified 32\n",
      "Created a chunk of size 92, which is longer than the specified 32\n",
      "Created a chunk of size 37, which is longer than the specified 32\n",
      "Created a chunk of size 92, which is longer than the specified 32\n",
      "Created a chunk of size 82, which is longer than the specified 32\n",
      "Created a chunk of size 93, which is longer than the specified 32\n",
      "Created a chunk of size 135, which is longer than the specified 32\n",
      "Created a chunk of size 106, which is longer than the specified 32\n"
     ]
    }
   ],
   "source": [
    "loader = TextLoader(\"./fake_esg.txt\")\n",
    "documents = loader.load()\n",
    "text_splitter = CharacterTextSplitter(chunk_size=32, chunk_overlap=0)\n",
    "texts = text_splitter.split_documents(documents)"
   ]
  },
  {
   "cell_type": "code",
   "execution_count": 9,
   "id": "49a14aa1",
   "metadata": {},
   "outputs": [],
   "source": [
    "# model_kwargs = {'device': 'cpu'}\n",
    "embeddings = HuggingFaceEmbeddings(\n",
    "    model_name=\"intfloat/multilingual-e5-base\",\n",
    "#     model_kwargs=model_kwargs\n",
    ")\n",
    "docsearch = Chroma.from_documents(texts, embeddings)"
   ]
  },
  {
   "cell_type": "code",
   "execution_count": 10,
   "id": "0553d266",
   "metadata": {},
   "outputs": [],
   "source": [
    "from langchain.callbacks.streaming_stdout import StreamingStdOutCallbackHandler\n",
    "llm = ChatOpenAI(\n",
    "        model_name=\"redpajama-incite-7b-zh-instruct\", \n",
    "        streaming=True, callbacks=[StreamingStdOutCallbackHandler()],\n",
    "        temperature=0.0,\n",
    "        model_kwargs={\"top_p\":0.0, \"frequency_penalty\": 1.1})\n"
   ]
  },
  {
   "cell_type": "code",
   "execution_count": 11,
   "id": "126ac851",
   "metadata": {},
   "outputs": [],
   "source": [
    "llm_chain = RetrievalQA.from_chain_type(\n",
    "    llm=llm,\n",
    "    chain_type=\"stuff\",\n",
    "    retriever=docsearch.as_retriever(),\n",
    "    chain_type_kwargs={\n",
    "        \"prompt\": REDPAJAMA_QA_PROMPT,\n",
    "        \"verbose\": True\n",
    "    },\n",
    ")"
   ]
  },
  {
   "cell_type": "code",
   "execution_count": 12,
   "id": "a700ebeb",
   "metadata": {
    "scrolled": false
   },
   "outputs": [
    {
     "name": "stdout",
     "output_type": "stream",
     "text": [
      "\n",
      "\n",
      "\u001b[1m> Entering new  chain...\u001b[0m\n",
      "\n",
      "\n",
      "\u001b[1m> Entering new  chain...\u001b[0m\n",
      "Prompt after formatting:\n",
      "\u001b[32;1m\u001b[1;3mBelow is an instruction that describes a task, paired with an input that provides further context. Write a response that exactly answer the question from the context, or if the answer is not inferrable by the context, state so. Write as concise as possible:\n",
      " \n",
      "### Instruction:\n",
      " 請依據文章，只摘要文章中的一段文字來回答這個問題：公司有多少員工\n",
      "\n",
      "### Input:\n",
      " 員工數量：\n",
      "幻境互動有限公司目前有超過500名員工，他們來自各個領域，包括遊戲開發、設計、營銷、技術支持等。我們致力於提供公平、多元和積極的工作環境，鼓勵員工發揮創意和創新精神，並且注重員工的專業成長和福利待遇。\n",
      "\n",
      "環保議題\n",
      "\n",
      "員工數量\n",
      "\n",
      "董事長的話\n",
      "\n",
      "永續發展報告書\n",
      "\n",
      "公司概述\n",
      "1.1 公司名稱和成立日期\n",
      "1.2 資本額\n",
      "1.3 總部\n",
      "1.4 業務範圍\n",
      "\n",
      "公司幹部\n",
      "2.1 董事長\n",
      "2.2 首席執行官\n",
      "2.3 首席技術官\n",
      "2.4 首席創意官\n",
      "2.5 首席財務官\n",
      "\n",
      "### Response:\n",
      "\u001b[0m\n",
      "\n",
      "根據文章所述，幻境互動有限公司有超過500名員工，其中包含遊戲開發、設計、營銷、技術支持等不同領域的專業人員。他們都受到公平的對待並享有良好的福利待遇。此外，該公司也重視環境保護的議題，在工作場所中實施了相關的措施以保護環境。\n",
      "\u001b[1m> Finished chain.\u001b[0m\n",
      "\n",
      "\u001b[1m> Finished chain.\u001b[0m\n",
      "response: \n",
      "根據文章所述，幻境互動有限公司有超過500名員工，其中包含遊戲開發、設計、營銷、技術支持等不同領域的專業人員。他們都受到公平的對待並享有良好的福利待遇。此外，該公司也重視環境保護的議題，在工作場所中實施了相關的措施以保護環境。\n",
      "\n",
      "\n",
      "\n",
      "get_relevant_documents:\n",
      "=================\n",
      "ct:  0  len:  106\n",
      "page_content='員工數量：\\n幻境互動有限公司目前有超過500名員工，他們來自各個領域，包括遊戲開發、設計、營銷、技術支持等。我們致力於提供公平、多元和積極的工作環境，鼓勵員工發揮創意和創新精神，並且注重員工的專業成長和福利待遇。' metadata={'source': './fake_esg.txt'}\n",
      "=================\n",
      "ct:  1  len:  26\n",
      "page_content='環保議題\\n\\n員工數量\\n\\n董事長的話\\n\\n永續發展報告書' metadata={'source': './fake_esg.txt'}\n",
      "=================\n",
      "ct:  2  len:  42\n",
      "page_content='公司概述\\n1.1 公司名稱和成立日期\\n1.2 資本額\\n1.3 總部\\n1.4 業務範圍' metadata={'source': './fake_esg.txt'}\n",
      "=================\n",
      "ct:  3  len:  52\n",
      "page_content='公司幹部\\n2.1 董事長\\n2.2 首席執行官\\n2.3 首席技術官\\n2.4 首席創意官\\n2.5 首席財務官' metadata={'source': './fake_esg.txt'}\n"
     ]
    }
   ],
   "source": [
    "user_question = \"公司有多少員工\"\n",
    "\n",
    "response = llm_chain.run({'query': user_question})\n",
    "print(\"response:\", response)\n",
    "\n",
    "print(\"\\n\\n\")\n",
    "print(\"get_relevant_documents:\")\n",
    "for ct, doc in enumerate(llm_chain._get_docs(user_question)):\n",
    "    print(\"=================\")\n",
    "    print(\"ct: \", ct, \" len: \", len(doc.page_content))\n",
    "    print(doc)"
   ]
  },
  {
   "cell_type": "code",
   "execution_count": 54,
   "id": "3be3903a",
   "metadata": {},
   "outputs": [
    {
     "data": {
      "text/plain": [
       "'\\n 請依據文章，只摘要文章中的一段文字來回答這個問題：{question}\\n\\nQ:\\n公司的名字是什麼\\n介紹一下公司\\n公司如何友善環境？\\n公司的理念是什麼？\\n幻境互動有限公司幹部有誰\\n幻境互動有限公司有多少資本額\\n公司有哪些社會責任\\n公司有多少員工\\n'"
      ]
     },
     "execution_count": 54,
     "metadata": {},
     "output_type": "execute_result"
    }
   ],
   "source": [
    "\"\"\"\n",
    " 請依據文章，只摘要文章中的一段文字來回答這個問題：{question}\n",
    "\n",
    "Q:\n",
    "公司的名字是什麼\n",
    "介紹一下公司\n",
    "公司如何友善環境？\n",
    "公司的理念是什麼？\n",
    "幻境互動有限公司幹部有誰\n",
    "幻境互動有限公司有多少資本額\n",
    "公司有哪些社會責任\n",
    "公司有多少員工\n",
    "\"\"\""
   ]
  },
  {
   "cell_type": "code",
   "execution_count": null,
   "id": "6bce68f1",
   "metadata": {},
   "outputs": [],
   "source": []
  }
 ],
 "metadata": {
  "kernelspec": {
   "display_name": "Python 3 (ipykernel)",
   "language": "python",
   "name": "python3"
  },
  "language_info": {
   "codemirror_mode": {
    "name": "ipython",
    "version": 3
   },
   "file_extension": ".py",
   "mimetype": "text/x-python",
   "name": "python",
   "nbconvert_exporter": "python",
   "pygments_lexer": "ipython3",
   "version": "3.8.10"
  }
 },
 "nbformat": 4,
 "nbformat_minor": 5
}
